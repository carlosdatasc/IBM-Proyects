{
 "cells": [
  {
   "cell_type": "markdown",
   "id": "c369682c-a3a5-422c-9b39-594056be0dd1",
   "metadata": {},
   "source": [
    "#### Exercise 2: Create markdown cell with title of the notebook"
   ]
  },
  {
   "cell_type": "markdown",
   "id": "60098117-388f-41c5-9ec3-563e4e93839f",
   "metadata": {},
   "source": [
    "# Data Science Tools and Ecosystem "
   ]
  },
  {
   "cell_type": "markdown",
   "id": "a699eb76-393b-4509-a0e8-03fe091f57b9",
   "metadata": {},
   "source": [
    "#### Exercise 3 - Create a markdown cell for an introduction"
   ]
  },
  {
   "cell_type": "markdown",
   "id": "96bc265b-9ba0-4875-b945-768fcc5346ed",
   "metadata": {},
   "source": [
    "In this notebook, Data Science Tools and Ecosystem are summarized."
   ]
  },
  {
   "cell_type": "markdown",
   "id": "45f44405-7ebd-48eb-8a3d-d606ca0f590d",
   "metadata": {},
   "source": [
    "#### Exercise 10  - Insert a markdown cell to list Objectives\n",
    "\n",
    "Write an introductory sentence about the notebook such as the follows:"
   ]
  },
  {
   "cell_type": "markdown",
   "id": "2e53e079-8421-4735-b853-436b0b82a273",
   "metadata": {},
   "source": [
    "1. Objectives\n",
    "2. Unordered List\n",
    "3. Lis popular languages"
   ]
  },
  {
   "cell_type": "markdown",
   "id": "9e74415c-a29d-423e-b6eb-f5f1e61539bd",
   "metadata": {},
   "source": [
    "#### Exercise 4 - Create a markdown cell to list data science languages\n",
    "\n",
    "Start the cell with an overview line such as:"
   ]
  },
  {
   "cell_type": "markdown",
   "id": "291e7664-d63e-40aa-8fe3-df6df32c0af3",
   "metadata": {},
   "source": [
    "Some of the popular languages that Data Scientists use are:\n",
    "* SQL\n",
    "* Python\n",
    "* R"
   ]
  },
  {
   "cell_type": "markdown",
   "id": "c0c2acf1-1164-4753-a0e9-a236bfad639b",
   "metadata": {},
   "source": [
    "#### Exercise 5 - Create a markdown cell to list data science libraries"
   ]
  },
  {
   "cell_type": "markdown",
   "id": "a96e2e43-5e73-4851-9532-5937bfe5bc1d",
   "metadata": {},
   "source": [
    "Some of the commonly used libraries used by Data Scientists include: \n",
    "* Numpy\n",
    "* Pandas\n",
    "* Care\n",
    "* Matlplotlib"
   ]
  },
  {
   "cell_type": "markdown",
   "id": "1043aaa2-3f2c-40ed-8f54-71bc589266db",
   "metadata": {},
   "source": [
    "#### Exercise 6 - Create a markdown cell with a table of Data Science tools"
   ]
  },
  {
   "cell_type": "markdown",
   "id": "fdd848eb-12b9-489b-8685-c7a2166b4964",
   "metadata": {},
   "source": [
    "\n",
    "| Tools |\n",
    "| -------- | \n",
    "| Jupyter Notebook| \n",
    "| Python | \n",
    "| Pandas |\n"
   ]
  },
  {
   "cell_type": "markdown",
   "id": "3654ba0a-8e51-4d8d-abce-8d95c4d27096",
   "metadata": {},
   "source": [
    "#### Exercise 7 - Create a markdown cell introducing arithmetic expression examples"
   ]
  },
  {
   "cell_type": "markdown",
   "id": "a6a31851-7603-4d38-a17a-f06273dc3c8e",
   "metadata": {},
   "source": [
    "Below are a few examples of evaluating arithmetic expressions in Python:\n",
    "* 7*7\n",
    "* 7/7\n",
    "* 7+7\n",
    "* 7-7"
   ]
  },
  {
   "cell_type": "markdown",
   "id": "254bacbe-0ff7-4e3d-93f0-3a5540e98ef3",
   "metadata": {},
   "source": [
    "#### Exercise 8 - Create a code cell to multiply and add numbers"
   ]
  },
  {
   "cell_type": "code",
   "execution_count": 2,
   "id": "ae6884e9-79fc-4b3e-9b64-545ac4067d67",
   "metadata": {},
   "outputs": [
    {
     "data": {
      "text/plain": [
       "17"
      ]
     },
     "execution_count": 2,
     "metadata": {},
     "output_type": "execute_result"
    }
   ],
   "source": [
    "# this is a simple arithmetic expression to later add integers\n",
    "(3*4)+5"
   ]
  },
  {
   "cell_type": "markdown",
   "id": "54d427ee-72f1-469d-9f01-f05527db93cf",
   "metadata": {},
   "source": [
    "#### Exercise 9 - Create a code cell to convert minutes to hours"
   ]
  },
  {
   "cell_type": "code",
   "execution_count": 3,
   "id": "82536e8d-dee7-4c95-b93a-338eef7a0942",
   "metadata": {},
   "outputs": [
    {
     "data": {
      "text/plain": [
       "3.3333333333333335"
      ]
     },
     "execution_count": 3,
     "metadata": {},
     "output_type": "execute_result"
    }
   ],
   "source": [
    "# This will convert 200 minutes into hours diving in 60.\n",
    "200/60"
   ]
  },
  {
   "cell_type": "markdown",
   "id": "4378eb8c-b29e-4b64-a121-9f6c6bbcc64a",
   "metadata": {},
   "source": [
    "#### Exercise 11 - Create a markdown cell to indicate the Author's name"
   ]
  },
  {
   "cell_type": "markdown",
   "id": "c5aae27f-e845-4a6e-a64a-400b66ac3bc4",
   "metadata": {},
   "source": [
    "## Autor Carlos Muñoz"
   ]
  }
 ],
 "metadata": {
  "kernelspec": {
   "display_name": "Python 3 (ipykernel)",
   "language": "python",
   "name": "python3"
  },
  "language_info": {
   "codemirror_mode": {
    "name": "ipython",
    "version": 3
   },
   "file_extension": ".py",
   "mimetype": "text/x-python",
   "name": "python",
   "nbconvert_exporter": "python",
   "pygments_lexer": "ipython3",
   "version": "3.13.5"
  }
 },
 "nbformat": 4,
 "nbformat_minor": 5
}
